{
 "cells": [
  {
   "cell_type": "code",
   "execution_count": 1,
   "metadata": {},
   "outputs": [],
   "source": [
    "from bs4 import BeautifulSoup\n",
    "import requests\n",
    "import json"
   ]
  },
  {
   "cell_type": "code",
   "execution_count": 2,
   "metadata": {},
   "outputs": [],
   "source": [
    "request = requests.get(\"https://www.kieselguitars.com/in-stocks\")\n",
    "soup = BeautifulSoup(request.text, \"html.parser\")"
   ]
  },
  {
   "cell_type": "code",
   "execution_count": 3,
   "metadata": {},
   "outputs": [],
   "source": [
    "data = soup.find(id=\"__NEXT_DATA__\")\n",
    "instrument_collection = json.loads(data.get_text())[\"props\"][\"pageProps\"][\"instrumentCollection\"]\n",
    "in_stock_instruments = json.loads(instrument_collection)"
   ]
  },
  {
   "cell_type": "code",
   "execution_count": 4,
   "metadata": {},
   "outputs": [
    {
     "data": {
      "text/plain": [
       "['https://www.kieselguitars.com/in-stock/163834',\n",
       " 'https://www.kieselguitars.com/in-stock/160738',\n",
       " 'https://www.kieselguitars.com/in-stock/68057',\n",
       " 'https://www.kieselguitars.com/in-stock/151099',\n",
       " 'https://www.kieselguitars.com/in-stock/159543',\n",
       " 'https://www.kieselguitars.com/in-stock/167920',\n",
       " 'https://www.kieselguitars.com/in-stock/162518',\n",
       " 'https://www.kieselguitars.com/in-stock/162523',\n",
       " 'https://www.kieselguitars.com/in-stock/159206',\n",
       " 'https://www.kieselguitars.com/in-stock/154508',\n",
       " 'https://www.kieselguitars.com/in-stock/154523',\n",
       " 'https://www.kieselguitars.com/in-stock/154537',\n",
       " 'https://www.kieselguitars.com/in-stock/159937',\n",
       " 'https://www.kieselguitars.com/in-stock/154498',\n",
       " 'https://www.kieselguitars.com/in-stock/152252',\n",
       " 'https://www.kieselguitars.com/in-stock/155032',\n",
       " 'https://www.kieselguitars.com/in-stock/122974',\n",
       " 'https://www.kieselguitars.com/in-stock/167899',\n",
       " 'https://www.kieselguitars.com/in-stock/159887']"
      ]
     },
     "execution_count": 4,
     "metadata": {},
     "output_type": "execute_result"
    }
   ],
   "source": [
    "desired_instruments = []\n",
    "\n",
    "desired_specs = [\n",
    "\t{ \"neckProfile\": { \"value\": \"THNN\" }, \"stringCount\": { \"value\": \"6\" } }\n",
    "]\n",
    "\n",
    "for instrument in in_stock_instruments:\n",
    "\tavailable = True\n",
    "\n",
    "\tfor variant in instrument[\"variants\"]:\n",
    "\t\tif 'availableForSale' in variant[\"node\"].keys() and variant[\"node\"][\"availableForSale\"] == False:\n",
    "\t\t\tavailable = False\n",
    "\t\t\tbreak\n",
    "\n",
    "\tif not available:\n",
    "\t\tcontinue\n",
    "\t\n",
    "\tfor desired_spec in desired_specs:\n",
    "\t\tis_match = True\n",
    "\n",
    "\t\tfor spec in desired_spec:\n",
    "\t\t\tif instrument[\"specs\"][spec][\"value\"] != desired_spec[spec][\"value\"]:\n",
    "\t\t\t\tis_match = False\n",
    "\t\t\t\tbreak\n",
    "\n",
    "\t\tif is_match:\n",
    "\t\t\tdesired_instruments.append(instrument)\n",
    "\n",
    "list(map(lambda instrument : f'https://www.kieselguitars.com/in-stock/{instrument[\"specs\"][\"serialNumber\"][\"value\"]}', desired_instruments))"
   ]
  }
 ],
 "metadata": {
  "kernelspec": {
   "display_name": ".venv",
   "language": "python",
   "name": "python3"
  },
  "language_info": {
   "codemirror_mode": {
    "name": "ipython",
    "version": 3
   },
   "file_extension": ".py",
   "mimetype": "text/x-python",
   "name": "python",
   "nbconvert_exporter": "python",
   "pygments_lexer": "ipython3",
   "version": "3.10.12"
  }
 },
 "nbformat": 4,
 "nbformat_minor": 2
}
